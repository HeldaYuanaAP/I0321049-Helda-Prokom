{
 "cells": [
  {
   "cell_type": "markdown",
   "metadata": {},
   "source": [
    "***\n",
    "<h1 align=\"center\">Exercise 06</h1>\n",
    " \n",
    "***\n",
    "## While Loop\n",
    "## Exercise 6.1\n",
    "isilah bagian rumpang berikut. xx diganti tanggal lahir dan yy diganti menjadi bulan lahir. tandanya menyesuaikan yang lebih besar."
   ]
  },
  {
   "cell_type": "code",
   "execution_count": 1,
   "metadata": {},
   "outputs": [
    {
     "name": "stdout",
     "output_type": "stream",
     "text": [
      "Dua musuh terbesar kesuksesan adalah penundaan dan alasan\n",
      "Dua musuh terbesar kesuksesan adalah penundaan dan alasan\n",
      "Dua musuh terbesar kesuksesan adalah penundaan dan alasan\n",
      "Dua musuh terbesar kesuksesan adalah penundaan dan alasan\n",
      "Dua musuh terbesar kesuksesan adalah penundaan dan alasan\n",
      "Dua musuh terbesar kesuksesan adalah penundaan dan alasan\n",
      "Dua musuh terbesar kesuksesan adalah penundaan dan alasan\n",
      "Dua musuh terbesar kesuksesan adalah penundaan dan alasan\n",
      "Dua musuh terbesar kesuksesan adalah penundaan dan alasan\n",
      "Dua musuh terbesar kesuksesan adalah penundaan dan alasan\n",
      "Dua musuh terbesar kesuksesan adalah penundaan dan alasan\n",
      "Dua musuh terbesar kesuksesan adalah penundaan dan alasan\n"
     ]
    }
   ],
   "source": [
    "#menentukan banyak pengulangan\n",
    "n = 15\n",
    "\n",
    "#melakukan pengulangan\n",
    "i = 4\n",
    "\n",
    "while i <= n :\n",
    "    print (\"Dua musuh terbesar kesuksesan adalah penundaan dan alasan\")\n",
    "    #diisi motto kalian\n",
    "    i = i + 1 # sesuaikan dengan atas agar fungsi perulangan dapat berhenti\n"
   ]
  },
  {
   "cell_type": "markdown",
   "metadata": {},
   "source": [
    "## Exercise 6.2\n",
    "\n",
    "Buatlah code seperti yang dicontohkan pada modul agar user dapat menginputkan sendiri jumlah n yang diinginkan"
   ]
  },
  {
   "cell_type": "code",
   "execution_count": 2,
   "metadata": {},
   "outputs": [
    {
     "name": "stdout",
     "output_type": "stream",
     "text": [
      "11\n",
      "10\n",
      "9\n",
      "8\n",
      "7\n",
      "6\n",
      "5\n",
      "4\n",
      "3\n"
     ]
    }
   ],
   "source": [
    "#Kerjakan disini\n",
    "n = int(input(\"Masukkan nilai n : \"))\n",
    "i = 11\n",
    "\n",
    "while i >= n :\n",
    "    print(i)\n",
    "    i=i-1\n"
   ]
  },
  {
   "cell_type": "markdown",
   "metadata": {},
   "source": [
    "## Excercise 6.3\n",
    "\n",
    "isilah xx, yy, dan tanda rumpang seperti pada exercise 6.1\n"
   ]
  },
  {
   "cell_type": "code",
   "execution_count": 3,
   "metadata": {},
   "outputs": [
    {
     "name": "stdout",
     "output_type": "stream",
     "text": [
      "Baris ke-15 : The Irishman \n",
      "Baris ke-14 : The Irishman \n",
      "Baris ke-13 : The Irishman \n",
      "Baris ke-12 : The Irishman \n",
      "Baris ke-11 : The Irishman \n",
      "Baris ke-10 : The Irishman \n",
      "Baris ke-9 : The Irishman \n",
      "Baris ke-8 : The Irishman \n",
      "Baris ke-7 : The Irishman \n",
      "Baris ke-6 : The Irishman \n",
      "Baris ke-5 : The Irishman \n",
      "Baris ke-4 : The Irishman \n"
     ]
    }
   ],
   "source": [
    "#melakukan pengulangan\n",
    "i = 15\n",
    "\n",
    "while i >= 4 :\n",
    "    print (\"Baris ke-%d : The Irishman \"%i)\n",
    "    #isi titik-titik dengan judul film favorit kalian\n",
    "    i = i - 1 "
   ]
  },
  {
   "cell_type": "markdown",
   "metadata": {},
   "source": [
    "## FOR LOOP\n",
    "\n",
    "## Exercise 6.4\n",
    "\n",
    "munculkan 3 dari 7 elemen yang berada di dalam list1 dan list2\n"
   ]
  },
  {
   "cell_type": "code",
   "execution_count": 3,
   "metadata": {},
   "outputs": [
    {
     "name": "stdout",
     "output_type": "stream",
     "text": [
      "2 Gule Kambing Medan\n",
      "3 Rujak Cingur Surabaya\n",
      "4 Seblak Bandung\n",
      "5 Baso aci Denpasar\n"
     ]
    }
   ],
   "source": [
    "list1 = ['Bakso Urat', 'Gule Kambing', 'Rujak Cingur', 'Seblak', 'Baso aci', 'Mie Gacoan', 'Lele Bakar'] #masukkan 7 list makanan favorit kalian\n",
    "list2 = ['Magetan', 'Medan', 'Surabaya', 'Bandung', 'Denpasar', 'Padang', 'Malang' ] #masukkan 7 list kota favorit kalian\n",
    "\n",
    "for i in range(1,5) :\n",
    "    print(i+1, list1[i] , list2[i])"
   ]
  },
  {
   "cell_type": "markdown",
   "metadata": {},
   "source": [
    "## Perulangan Bersarang\n",
    "\n",
    "## Exercise 6.5"
   ]
  },
  {
   "cell_type": "code",
   "execution_count": 5,
   "metadata": {},
   "outputs": [
    {
     "name": "stdout",
     "output_type": "stream",
     "text": [
      "225 \n",
      "210 196 \n",
      "195 182 169 \n",
      "180 168 156 144 \n",
      "165 154 143 132 121 \n",
      "150 140 130 120 110 100 \n",
      "135 126 117 108 99 90 81 \n",
      "120 112 104 96 88 80 72 64 \n",
      "105 98 91 84 77 70 63 56 49 \n",
      "90 84 78 72 66 60 54 48 42 36 \n",
      "75 70 65 60 55 50 45 40 35 30 25 \n",
      "60 56 52 48 44 40 36 32 28 24 20 16 \n"
     ]
    }
   ],
   "source": [
    "i = 15\n",
    "while i >= 4:\n",
    "    j = 15\n",
    "    while j>=i:\n",
    "        print(\"%d \" % (i*j), end = '')\n",
    "        j = j - 1\n",
    "    print()\n",
    "    i-=1"
   ]
  },
  {
   "cell_type": "markdown",
   "metadata": {},
   "source": [
    "## Pernyataan Loncat\n",
    "\n",
    "## Exercise 6.\n",
    "\n",
    "Buatlah fungsi berikut agar muncul angka hingga berhenti sesuai dengan nilai qq\n",
    "qq = angka favorit kalian\n",
    "pp>qq"
   ]
  },
  {
   "cell_type": "code",
   "execution_count": 1,
   "metadata": {},
   "outputs": [
    {
     "name": "stdout",
     "output_type": "stream",
     "text": [
      "01234567891011121314151617181920212223242526272829303132333435363738394041424344"
     ]
    }
   ],
   "source": [
    "for i in range(55):\n",
    "    print(i,end='')\n",
    "    if i == 44:\n",
    "        break\n",
    "    "
   ]
  },
  {
   "cell_type": "markdown",
   "metadata": {},
   "source": [
    "***\n",
    "<h1 align=\"center\">WELL DONE</h1>\n",
    " \n",
    "***"
   ]
  }
 ],
 "metadata": {
  "interpreter": {
   "hash": "cd08f94adcf3cbae37fe85286256f4c2a10455ca9094fd053e9f3d3f09647223"
  },
  "kernelspec": {
   "display_name": "Python 3.9.7 64-bit",
   "language": "python",
   "name": "python3"
  },
  "language_info": {
   "codemirror_mode": {
    "name": "ipython",
    "version": 3
   },
   "file_extension": ".py",
   "mimetype": "text/x-python",
   "name": "python",
   "nbconvert_exporter": "python",
   "pygments_lexer": "ipython3",
   "version": "3.10.2"
  },
  "orig_nbformat": 4
 },
 "nbformat": 4,
 "nbformat_minor": 2
}
